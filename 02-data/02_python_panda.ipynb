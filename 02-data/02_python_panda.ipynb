{
 "cells": [
  {
   "cell_type": "markdown",
   "id": "85015490",
   "metadata": {},
   "source": [
    "# Pandas in Python: A Guide"
   ]
  },
  {
   "cell_type": "markdown",
   "id": "1288560e",
   "metadata": {},
   "source": [
    "## Table of Contents\n",
    "\n",
    "1. [Introduction to Pandas](#introduction-to-pandas)\n",
    "2. [Why Choose Pandas?](#why-choose-pandas)\n",
    "3. [Understanding DataFrame](#understanding-dataframe)\n",
    "4. [Data Wrangling Techniques](#data-wrangling-techniques)\n",
    "5. [Advanced Pandas Functions](#advanced-pandas-functions)\n",
    "6. [Pandas and AI](#pandas-and-ai)\n",
    "7. [Useful Code Snippets](#useful-code-snippets)\n",
    "8. [Polars: An Alternate Library](#polars-an-alternate-library)\n",
    "9. [Further Resources](#further-resources)\n"
   ]
  },
  {
   "cell_type": "markdown",
   "id": "b6147e5e",
   "metadata": {},
   "source": [
    "1. Introduction to Pandas"
   ]
  },
  {
   "cell_type": "markdown",
   "id": "170e7e96",
   "metadata": {},
   "source": [
    "Pandas is a Python library designed to make data manipulation and analysis more intuitive and effective."
   ]
  },
  {
   "cell_type": "markdown",
   "id": "d97fda54",
   "metadata": {},
   "source": [
    "2. Why Choose Pandas?"
   ]
  },
  {
   "cell_type": "markdown",
   "id": "c91898a8",
   "metadata": {},
   "source": [
    "### Data Cleaning and Analysis\n",
    "\n",
    "Pandas simplifies the process of data cleaning and analysis, making it easier to gain insights from your datasets.\n",
    "\n",
    "### Versatility\n",
    "\n",
    "Pandas is highly flexible, capable of working with various data sources and formats."
   ]
  },
  {
   "cell_type": "markdown",
   "id": "a674a2d1",
   "metadata": {},
   "source": [
    "3. Understanding DataFrame"
   ]
  },
  {
   "cell_type": "markdown",
   "id": "80ab538a",
   "metadata": {},
   "source": [
    "DataFrame is the primary data structure in Pandas, resembling a spreadsheet or SQL table.\n",
    "\n",
    "### Key Features\n",
    "\n",
    "- **Labeled Axes**: Simplifies data manipulation.\n",
    "- **Resizable**: Easily add or remove columns.\n",
    "- **Supports Different Data Types**: Handle integers, floats, strings, and more in different columns.\n"
   ]
  },
  {
   "cell_type": "markdown",
   "id": "70fc5fc3",
   "metadata": {},
   "source": [
    "Creating DataFrames"
   ]
  },
  {
   "cell_type": "markdown",
   "id": "1f25e9c1",
   "metadata": {},
   "source": [
    "### From a CSV File\n",
    "\n",
    "To create a DataFrame from a CSV file, use the `pd.read_csv` function.\n",
    "\n",
    "```python\n",
    "df = pd.read_csv('telco_churn.csv')\n",
    "```\n",
    "\n",
    "### From a Dictionary\n",
    "\n",
    "To create a DataFrame from a dictionary, use `pd.DataFrame.from_dict`.\n",
    "\n",
    "```python\n",
    "tempdict = {'col1':[1,2,3], 'col2':[4,5,6], 'col3':[7,8,9]}\n",
    "dictdf = pd.DataFrame.from_dict(tempdict)\n",
    "```\n"
   ]
  },
  {
   "cell_type": "code",
   "execution_count": null,
   "id": "3bdc6099",
   "metadata": {},
   "outputs": [],
   "source": [
    "import pandas as pd\n",
    "\n",
    "# From a CSV file (Example - Uncomment to run if you have the CSV file)\n",
    "# df = pd.read_csv('telco_churn.csv')\n",
    "\n",
    "# From a Dictionary\n",
    "tempdict = {'col1':[1,2,3], 'col2':[4,5,6], 'col3':[7,8,9]}\n",
    "dictdf = pd.DataFrame.from_dict(tempdict)\n",
    "\n",
    "dictdf"
   ]
  }
 ],
 "metadata": {},
 "nbformat": 4,
 "nbformat_minor": 5
}
