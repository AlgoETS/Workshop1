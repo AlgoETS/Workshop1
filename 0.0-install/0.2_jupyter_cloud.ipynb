{
 "cells": [
  {
   "cell_type": "code",
   "execution_count": null,
   "id": "67d55b89",
   "metadata": {},
   "outputs": [],
   "source": [
    "%pip install httpx pandas pandas_ta matplotlib seaborn plotly requests beautifulsoup4 lxml mplfinance finnhub-python binance python-binance pandasai scikit-learn numpy polars rich"
   ]
  },
  {
   "cell_type": "markdown",
   "id": "c1967ad3",
   "metadata": {},
   "source": [
    "## Guide pour Configurer un Environnement Python\n",
    "\n",
    "### Table des Matières\n",
    "\n",
    "1. [Introduction](https://www.notion.so/0-5-Utiliser-les-service-cloud-1970855fe0f948e4b2eca18e19e27d88?pvs=21) - 2 minutes\n",
    "2. [Utilisation de DeepNote](https://www.notion.so/0-5-Utiliser-les-service-cloud-1970855fe0f948e4b2eca18e19e27d88?pvs=21) - 5 minutes\n",
    "3. [Utilisation de Google Colab](https://www.notion.so/0-5-Utiliser-les-service-cloud-1970855fe0f948e4b2eca18e19e27d88?pvs=21) - 5 minutes\n",
    "\n",
    "---\n",
    "\n",
    "### 1. Introduction - 2 minutes\n",
    "\n",
    "Configurer un environnement Python est crucial pour gérer les dépendances et s'assurer que votre code s'exécute de manière cohérente sur différentes configurations.\n",
    "\n",
    "---\n",
    "\n",
    "### 2. Utilisation de DeepNote - 5 minutes\n",
    "\n",
    "- DeepNote est une plateforme pour le développement collaboratif de projets de science des données.\n",
    "- Pas besoin d'installation, tout est en ligne.\n",
    "- Pour commencer, rendez-vous sur [DeepNote](https://www.deepnote.com/) et créez un nouveau projet.\n",
    "- https://deepnote.com/docs/deepnote-first-steps\n",
    "\n",
    "---\n",
    "\n",
    "### 3. Utilisation de Google Colab - 5 minutes\n",
    "\n",
    "- Google Colab est une alternative à Jupyter Notebooks hébergée dans le cloud.\n",
    "- Aucune installation requise, parfait pour les travaux en collaboration.\n",
    "- Ouvrez [Google Colab](https://colab.research.google.com/) et créez un nouveau notebook pour commencer.\n",
    "\n",
    "---"
   ]
  },
  {
   "cell_type": "code",
   "execution_count": null,
   "id": "f53d41b9",
   "metadata": {},
   "outputs": [],
   "source": []
  }
 ],
 "metadata": {
  "kernelspec": {
   "display_name": "Python 3 (ipykernel)",
   "language": "python",
   "name": "python3"
  },
  "language_info": {
   "codemirror_mode": {
    "name": "ipython",
    "version": 3
   },
   "file_extension": ".py",
   "mimetype": "text/x-python",
   "name": "python",
   "nbconvert_exporter": "python",
   "pygments_lexer": "ipython3",
   "version": "3.10.8"
  }
 },
 "nbformat": 4,
 "nbformat_minor": 5
}
