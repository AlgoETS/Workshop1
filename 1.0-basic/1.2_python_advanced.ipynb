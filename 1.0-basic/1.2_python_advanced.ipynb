{
 "cells": [
  {
   "cell_type": "code",
   "execution_count": null,
   "metadata": {},
   "outputs": [],
   "source": [
    "%pip install httpx pandas pandas_ta matplotlib seaborn plotly requests beautifulsoup4 lxml mplfinance finnhub-python binance python-binance pandasai scikit-learn numpy polars rich"
   ]
  },
  {
   "cell_type": "markdown",
   "metadata": {},
   "source": [
    "## Générateurs et Instruction Yield"
   ]
  },
  {
   "cell_type": "code",
   "execution_count": 1,
   "metadata": {},
   "outputs": [
    {
     "name": "stdout",
     "output_type": "stream",
     "text": [
      "1\n",
      "1\n",
      "2\n",
      "3\n",
      "Generator is exhausted.\n"
     ]
    }
   ],
   "source": [
    "def mon_generateur():\n",
    "    yield 1\n",
    "    yield 2\n",
    "    yield 3\n",
    "\n",
    "gen = mon_generateur()\n",
    "print(mon_generateur().__next__())\n",
    "print(next(gen))\n",
    "print(next(gen))\n",
    "print(next(gen))\n",
    "try:\n",
    "    print(next(gen))\n",
    "except StopIteration:\n",
    "    print(\"Generator is exhausted.\")\n"
   ]
  },
  {
   "cell_type": "markdown",
   "metadata": {},
   "source": [
    "## Décorateurs"
   ]
  },
  {
   "cell_type": "code",
   "execution_count": 2,
   "metadata": {},
   "outputs": [
    {
     "name": "stdout",
     "output_type": "stream",
     "text": [
      "Quelque chose se passe avant que la fonction soit appelée.\n",
      "Bonjour !\n",
      "Quelque chose se passe après que la fonction soit appelée.\n"
     ]
    }
   ],
   "source": [
    "def mon_decorateur(func):\n",
    "    def wrapper():\n",
    "        print(\"Quelque chose se passe avant que la fonction soit appelée.\")\n",
    "        func()\n",
    "        print(\"Quelque chose se passe après que la fonction soit appelée.\")\n",
    "    return wrapper\n",
    "\n",
    "@mon_decorateur\n",
    "def dire_bonjour():\n",
    "    print(\"Bonjour !\")\n",
    "\n",
    "dire_bonjour()"
   ]
  },
  {
   "cell_type": "markdown",
   "metadata": {},
   "source": [
    "## Compréhensions de Liste et Expressions de Générateurs"
   ]
  },
  {
   "cell_type": "code",
   "execution_count": 3,
   "metadata": {},
   "outputs": [
    {
     "name": "stdout",
     "output_type": "stream",
     "text": [
      "[0, 1, 4, 9, 16]\n",
      "0\n"
     ]
    }
   ],
   "source": [
    "carres = [x*x for x in range(5)]\n",
    "carres_gen = (x*x for x in range(5))\n",
    "print(carres)\n",
    "print(next(carres_gen))"
   ]
  },
  {
   "cell_type": "markdown",
   "metadata": {},
   "source": [
    "## Gestion des Fichiers"
   ]
  },
  {
   "cell_type": "code",
   "execution_count": 4,
   "metadata": {},
   "outputs": [
    {
     "name": "stdout",
     "output_type": "stream",
     "text": [
      "test\n"
     ]
    }
   ],
   "source": [
    "with open(\"./1.0-basic/monfichier.txt\", \"r\") as f:\n",
    "    print(f.read())"
   ]
  },
  {
   "cell_type": "markdown",
   "metadata": {},
   "source": [
    "## Meilleures Pratiques pour les Erreurs et Exceptions"
   ]
  },
  {
   "cell_type": "code",
   "execution_count": 5,
   "metadata": {},
   "outputs": [
    {
     "name": "stdout",
     "output_type": "stream",
     "text": [
      "Une erreur s'est produite : division by zero\n"
     ]
    }
   ],
   "source": [
    "try:\n",
    "    x = 1 / 0\n",
    "except ZeroDivisionError as e:\n",
    "    print(f\"Une erreur s'est produite : {e}\")"
   ]
  },
  {
   "cell_type": "markdown",
   "metadata": {},
   "source": [
    "## Tests Unitaires"
   ]
  },
  {
   "cell_type": "code",
   "execution_count": 6,
   "metadata": {},
   "outputs": [
    {
     "name": "stderr",
     "output_type": "stream",
     "text": [
      "test_ajouter (__main__.TestMaFonction) ... ok\n",
      "test_ajouter_erreur (__main__.TestMaFonction) ... ok\n",
      "test_soustraire (__main__.TestMaFonction) ... ok\n",
      "test_soustraire_erreur (__main__.TestMaFonction) ... ok\n",
      "\n",
      "----------------------------------------------------------------------\n",
      "Ran 4 tests in 0.007s\n",
      "\n",
      "OK\n"
     ]
    }
   ],
   "source": [
    "import unittest\n",
    "\n",
    "def ajouter(a, b):\n",
    "    return a + b\n",
    "\n",
    "def soustraire(a, b):\n",
    "    return a - b\n",
    "\n",
    "class TestMaFonction(unittest.TestCase):\n",
    "\n",
    "    def setUp(self) -> None:\n",
    "        return super().setUp()\n",
    "\n",
    "    def test_ajouter(self):\n",
    "        self.assertEqual(ajouter(1, 2), 3)\n",
    "        self.assertEqual(ajouter(1, -1), 0)\n",
    "\n",
    "    def test_ajouter_erreur(self):\n",
    "        with self.assertRaises(TypeError):\n",
    "            ajouter(1, \"1\")\n",
    "\n",
    "    def test_soustraire(self):\n",
    "        self.assertEqual(soustraire(1, 2), -1)\n",
    "        self.assertEqual(soustraire(1, -1), 2)\n",
    "\n",
    "    def test_soustraire_erreur(self):\n",
    "        with self.assertRaises(TypeError):\n",
    "            soustraire(1, \"1\")\n",
    "\n",
    "if __name__ == '__main__':\n",
    "    unittest.main(argv=[''], verbosity=2, exit=False)"
   ]
  },
  {
   "cell_type": "markdown",
   "metadata": {},
   "source": [
    "## Travailler avec JSON"
   ]
  },
  {
   "cell_type": "code",
   "execution_count": 7,
   "metadata": {},
   "outputs": [
    {
     "name": "stdout",
     "output_type": "stream",
     "text": [
      "{\"nom\": \"John\", \"age\": 30}\n"
     ]
    }
   ],
   "source": [
    "import json\n",
    "\n",
    "donnees = {\"nom\": \"John\", \"age\": 30}\n",
    "donnees_json = json.dumps(donnees)\n",
    "print(donnees_json)"
   ]
  },
  {
   "cell_type": "markdown",
   "metadata": {},
   "source": [
    "## Programmation Asynchrone"
   ]
  },
  {
   "cell_type": "code",
   "execution_count": 13,
   "metadata": {},
   "outputs": [],
   "source": [
    "import asyncio\n",
    "\n",
    "async def main():\n",
    "    print(\"Bonjour\")\n",
    "    await asyncio.sleep(1)\n",
    "    print(\"Monde\")"
   ]
  },
  {
   "cell_type": "markdown",
   "metadata": {},
   "source": [
    "## Bases du Web Scraping"
   ]
  },
  {
   "cell_type": "code",
   "execution_count": 12,
   "metadata": {},
   "outputs": [
    {
     "name": "stdout",
     "output_type": "stream",
     "text": [
      "Example Domain\n"
     ]
    }
   ],
   "source": [
    "from bs4 import BeautifulSoup\n",
    "import requests\n",
    "\n",
    "page = requests.get('https://www.example.com')\n",
    "soup = BeautifulSoup(page.content, 'html.parser')\n",
    "\n",
    "print(soup.title.text)"
   ]
  },
  {
   "cell_type": "markdown",
   "metadata": {},
   "source": [
    "## Expressions Régulières"
   ]
  },
  {
   "cell_type": "code",
   "execution_count": 10,
   "metadata": {},
   "outputs": [
    {
     "name": "stdout",
     "output_type": "stream",
     "text": [
      "antoine.boucher012@gmail.com\n",
      "True\n"
     ]
    }
   ],
   "source": [
    "import re\n",
    "\n",
    "motif = re.compile(r'\\b[A-Za-z0-9._%+-]+@[A-Za-z0-9.-]+\\.[A-Z|a-z]{2,}\\b')\n",
    "print(motif.match(\"antoine.boucher012@gmail.com\").group())\n",
    "print(bool(motif.match(\"antoine.boucher012@gmail.com\")))"
   ]
  },
  {
   "cell_type": "markdown",
   "metadata": {},
   "source": [
    "## Python et les Bases de Données"
   ]
  },
  {
   "cell_type": "code",
   "execution_count": 11,
   "metadata": {},
   "outputs": [
    {
     "name": "stdout",
     "output_type": "stream",
     "text": [
      "[(1, 'John', 30), (2, 'John', 30), (3, 'John', 30)]\n"
     ]
    }
   ],
   "source": [
    "import sqlite3\n",
    "\n",
    "conn = sqlite3.connect(\"./1.0-basic/ma_base.db\")\n",
    "\n",
    "c = conn.cursor()\n",
    "\n",
    "c.execute(\"\"\"CREATE TABLE IF NOT EXISTS users (\n",
    "    id INTEGER PRIMARY KEY AUTOINCREMENT UNIQUE,\n",
    "    name TEXT NOT NULL,\n",
    "    age INTEGER NOT NULL\n",
    ")\"\"\")\n",
    "conn.commit()\n",
    "\n",
    "c.execute(\"\"\"INSERT INTO users (name, age) VALUES (\"John\", 30)\"\"\")\n",
    "conn.commit()\n",
    "\n",
    "c.execute(\"\"\"SELECT * FROM users\"\"\")\n",
    "print(c.fetchall())\n",
    "\n",
    "conn.close()\n"
   ]
  },
  {
   "cell_type": "markdown",
   "metadata": {},
   "source": [
    "## Introduction aux Frameworks Web"
   ]
  },
  {
   "cell_type": "code",
   "execution_count": null,
   "metadata": {},
   "outputs": [],
   "source": [
    "%pip install flask\n",
    "from flask import Flask\n",
    "app = Flask(__name__)\n",
    "\n",
    "@app.route('/')\n",
    "def bonjour_monde():\n",
    "    return 'Bonjour, Monde !'\n",
    "\n",
    "if __name__ == '__main__':\n",
    "    app.run(debug=True)"
   ]
  },
  {
   "cell_type": "code",
   "execution_count": null,
   "metadata": {},
   "outputs": [],
   "source": []
  }
 ],
 "metadata": {
  "kernelspec": {
   "display_name": "Python 3",
   "language": "python",
   "name": "python3"
  },
  "language_info": {
   "codemirror_mode": {
    "name": "ipython",
    "version": 3
   },
   "file_extension": ".py",
   "mimetype": "text/x-python",
   "name": "python",
   "nbconvert_exporter": "python",
   "pygments_lexer": "ipython3",
   "version": "3.10.8"
  },
  "orig_nbformat": 4
 },
 "nbformat": 4,
 "nbformat_minor": 2
}
