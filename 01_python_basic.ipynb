{
 "cells": [
  {
   "cell_type": "markdown",
   "metadata": {},
   "source": [
    "# Python 101 Tutorial"
   ]
  },
  {
   "cell_type": "markdown",
   "metadata": {},
   "source": [
    "## Table of Contents\n",
    "\n",
    "1. History of Python Language\n",
    "2. History of Python Versions\n",
    "3. Variables\n",
    "4. If Statements and Walrus Operator\n",
    "5. For Loops\n",
    "6. While Loops\n",
    "7. Try-Catch (Exception Handling)\n",
    "8. Functions\n",
    "9. Class and Polymorphism\n",
    "10. Typing\n",
    "11. Basic Libraries\n",
    "12. Data Science Essentials\n",
    "13. HTTP Requests Using `httpx`\n",
    "14. Import Statements\n",
    "15. Working with `requirements.txt`"
   ]
  },
  {
   "cell_type": "markdown",
   "metadata": {},
   "source": [
    "## 1. History of Python Language\n",
    "\n",
    "Python was created by Guido van Rossum and first released in 1991. The language emphasizes readability and simplicity, and it's widely used for web development, data science, artificial intelligence, and more."
   ]
  },
  {
   "cell_type": "markdown",
   "metadata": {},
   "source": [
    "## 2. History of Python Versions\n",
    "\n",
    "### Python 1.0 (1994)\n",
    "\n",
    "- The first official version.\n",
    "- Included features like lambda, map, filter, and reduce.\n",
    "\n",
    "### Python 2.0 (2000)\n",
    "\n",
    "- Introduced list comprehensions for more concise lists.\n",
    "- Added garbage collection for cyclical references.\n",
    "\n",
    "### Python 2.7 (2010)\n",
    "\n",
    "- The last of the 2.x series.\n",
    "- Included many features that were backported from Python 3.x.\n",
    "  \n",
    "### Python 3.0 (2008)\n",
    "\n",
    "- A major revamp of the language, making it not backward-compatible with Python 2.x.\n",
    "- Print became a function, integer division resulted in a float, etc.\n",
    "\n",
    "### Python 3.6 (2016)\n",
    "\n",
    "- Introduced f-strings, a way to embed expressions inside string literals.\n",
    "  \n",
    "### Python 3.7 (2018)\n",
    "\n",
    "- Introduced data classes that simplify the classes used for storing data.\n",
    "  \n",
    "### Python 3.8 (2019)\n",
    "\n",
    "- Introduced the Walrus Operator (`:=`), which allows both assignment and evaluation of variables within an expression."
   ]
  },
  {
   "cell_type": "markdown",
   "metadata": {},
   "source": [
    "## 3. Variables"
   ]
  },
  {
   "cell_type": "code",
   "execution_count": 1,
   "metadata": {},
   "outputs": [],
   "source": [
    "x = 10  # Integer\n",
    "y = 20.5  # Float\n",
    "name = \"Alice\"  # String\n",
    "is_valid = True  # Boolean"
   ]
  },
  {
   "cell_type": "markdown",
   "metadata": {},
   "source": [
    "## 4. If Statements and Walrus Operator"
   ]
  },
  {
   "cell_type": "code",
   "execution_count": 2,
   "metadata": {},
   "outputs": [],
   "source": [
    "if x > y:\n",
    "    print(\"x is greater than y\")\n",
    "\n",
    "# Using Walrus Operator (Python 3.8+)\n",
    "if (n := x * 2) > y:\n",
    "    print(f\"n ({n}) is greater than y ({y})\")"
   ]
  },
  {
   "cell_type": "markdown",
   "metadata": {},
   "source": [
    "## 5. For Loops"
   ]
  },
  {
   "cell_type": "code",
   "execution_count": 3,
   "metadata": {},
   "outputs": [
    {
     "name": "stdout",
     "output_type": "stream",
     "text": [
      "0\n",
      "1\n",
      "2\n",
      "3\n",
      "4\n"
     ]
    }
   ],
   "source": [
    "for i in range(5):\n",
    "    print(i)"
   ]
  },
  {
   "cell_type": "markdown",
   "metadata": {},
   "source": [
    "## 6. While Loops"
   ]
  },
  {
   "cell_type": "code",
   "execution_count": 4,
   "metadata": {},
   "outputs": [
    {
     "name": "stdout",
     "output_type": "stream",
     "text": [
      "0\n",
      "1\n",
      "2\n"
     ]
    }
   ],
   "source": [
    "i = 0\n",
    "while i < 3:\n",
    "    print(i)\n",
    "    i += 1"
   ]
  },
  {
   "cell_type": "markdown",
   "metadata": {},
   "source": [
    "## 7. Try-Catch (Exception Handling)"
   ]
  },
  {
   "cell_type": "code",
   "execution_count": 5,
   "metadata": {},
   "outputs": [
    {
     "name": "stdout",
     "output_type": "stream",
     "text": [
      "Cannot divide by zero\n"
     ]
    }
   ],
   "source": [
    "try:\n",
    "    print(10 / 0)\n",
    "except ZeroDivisionError:\n",
    "    print(\"Cannot divide by zero\")"
   ]
  },
  {
   "cell_type": "markdown",
   "metadata": {},
   "source": [
    "## 8. Functions"
   ]
  },
  {
   "cell_type": "code",
   "execution_count": 6,
   "metadata": {},
   "outputs": [],
   "source": [
    "def greet(name):\n",
    "    return f\"Hello, {name}\""
   ]
  },
  {
   "cell_type": "markdown",
   "metadata": {},
   "source": [
    "## 9. Class and Polymorphism"
   ]
  },
  {
   "cell_type": "code",
   "execution_count": 7,
   "metadata": {},
   "outputs": [],
   "source": [
    "class Animal:\n",
    "    def speak(self):\n",
    "        pass\n",
    "\n",
    "class Dog(Animal):\n",
    "    def speak(self):\n",
    "        return \"Woof\""
   ]
  },
  {
   "cell_type": "markdown",
   "metadata": {},
   "source": [
    "## 10. Typing"
   ]
  },
  {
   "cell_type": "code",
   "execution_count": 8,
   "metadata": {},
   "outputs": [],
   "source": [
    "from typing import List\n",
    "\n",
    "def add_numbers(numbers: List[int]) -> int:\n",
    "    return sum(numbers)"
   ]
  },
  {
   "cell_type": "markdown",
   "metadata": {},
   "source": [
    "## 11. Basic Libraries"
   ]
  },
  {
   "cell_type": "code",
   "execution_count": 9,
   "metadata": {},
   "outputs": [],
   "source": [
    "import math\n",
    "import datetime"
   ]
  },
  {
   "cell_type": "markdown",
   "metadata": {},
   "source": [
    "## 12. Data Science Essentials\n",
    "\n",
    "- NumPy: For numerical operations.\n",
    "- Pandas: For data manipulation.\n",
    "- Matplotlib: For plotting and visualization."
   ]
  },
  {
   "cell_type": "code",
   "execution_count": 10,
   "metadata": {},
   "outputs": [],
   "source": [
    "import numpy as np\n",
    "import pandas as pd\n",
    "import matplotlib.pyplot as plt"
   ]
  },
  {
   "cell_type": "markdown",
   "metadata": {},
   "source": [
    "### Matplotlib\n",
    "\n",
    "Matplotlib is a 2D plotting library which produces high-quality charts and figures."
   ]
  },
  {
   "cell_type": "code",
   "execution_count": 11,
   "metadata": {},
   "outputs": [
    {
     "data": {
      "image/png": "[encoded data removed]",
      "text/plain": [
       "<Figure size 640x480 with 1 Axes>"
      ]
     },
     "metadata": {},
     "output_type": "display_data"
    }
   ],
   "source": [
    "import matplotlib.pyplot as plt\n",
    "\n",
    "# Basic Plot\n",
    "plt.plot([1, 2, 3], [1, 4, 9])\n",
    "plt.title(\"Basic Plot\")\n",
    "plt.show()"
   ]
  },
  {
   "cell_type": "markdown",
   "metadata": {},
   "source": [
    "### Pandas\n",
    "\n",
    "Pandas provide data structures for efficiently storing large amounts of data and time-series functionality."
   ]
  },
  {
   "cell_type": "code",
   "execution_count": 12,
   "metadata": {},
   "outputs": [],
   "source": [
    "import pandas as pd\n",
    "\n",
    "# Create a DataFrame\n",
    "df = pd.DataFrame({'Column1': [1, 2, 3], 'Column2': ['a', 'b', 'c']})\n",
    "\n",
    "# Data manipulation\n",
    "filtered_df = df[df['Column1'] > 1]"
   ]
  },
  {
   "cell_type": "markdown",
   "metadata": {},
   "source": [
    "### NumPy\n",
    "\n",
    "NumPy (Numerical Python) is the foundational package for numerical computing in Python."
   ]
  },
  {
   "cell_type": "code",
   "execution_count": 13,
   "metadata": {},
   "outputs": [],
   "source": [
    "import numpy as np\n",
    "\n",
    "# Create an array\n",
    "arr = np.array([1, 2, 3])\n",
    "\n",
    "# Perform operations\n",
    "mean_val = np.mean(arr)"
   ]
  },
  {
   "cell_type": "markdown",
   "metadata": {},
   "source": [
    "## 13. HTTP Requests Using `httpx`"
   ]
  },
  {
   "cell_type": "code",
   "execution_count": 14,
   "metadata": {},
   "outputs": [],
   "source": [
    "import httpx\n",
    "\n",
    "async def fetch_data():\n",
    "    async with httpx.AsyncClient() as client:\n",
    "        response = await client.get('https://jsonplaceholder.typicode.com/todos/1')\n",
    "    return response.json()"
   ]
  },
  {
   "cell_type": "markdown",
   "metadata": {},
   "source": [
    "## 14. Import Statements"
   ]
  },
  {
   "cell_type": "code",
   "execution_count": 15,
   "metadata": {},
   "outputs": [],
   "source": [
    "import math\n",
    "from datetime import datetime"
   ]
  },
  {
   "cell_type": "markdown",
   "metadata": {},
   "source": [
    "## 15. Working with `requirements.txt`"
   ]
  },
  {
   "cell_type": "markdown",
   "metadata": {},
   "source": [
    "httpx==0.18.2\n",
    "\n",
    "To install all dependencies, run:\n",
    "```bash\n",
    "pip install -r requirements.txt\n",
    "```"
   ]
  },
  {
   "cell_type": "code",
   "execution_count": null,
   "metadata": {},
   "outputs": [],
   "source": []
  },
  {
   "cell_type": "code",
   "execution_count": null,
   "metadata": {},
   "outputs": [],
   "source": []
  }
 ],
 "metadata": {
  "kernelspec": {
   "display_name": "Python 3 (ipykernel)",
   "language": "python",
   "name": "python3"
  },
  "language_info": {
   "codemirror_mode": {
    "name": "ipython",
    "version": 3
   },
   "file_extension": ".py",
   "mimetype": "text/x-python",
   "name": "python",
   "nbconvert_exporter": "python",
   "pygments_lexer": "ipython3",
   "version": "3.10.12"
  },
  "name": "Python 101 Tutorial"
 },
 "nbformat": 4,
 "nbformat_minor": 1
}
