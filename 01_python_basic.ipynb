{
   "cells":[
      {
         "cell_type":"markdown",
         "source":"# Python 101 Tutorial\n"
      },
      {
         "cell_type":"markdown",
         "source":"## Table of Contents\n\n1. History of Python Language\n2. History of Python Versions\n3. Variables\n4. If Statements and Walrus Operator\n5. For Loops\n6. While Loops\n7. Try-Catch (Exception Handling)\n8. Functions\n9. Class and Polymorphism\n10. Typing\n11. Basic Libraries\n12. Data Science Essentials\n13. HTTP Requests Using `httpx`\n14. Import Statements\n15. Working with `requirements.txt`\n"
      },
      {
         "cell_type":"markdown",
         "source":"## 1. History of Python Language\n\nPython was created by Guido van Rossum and first released in 1991. The language emphasizes readability and simplicity, and it's widely used for web development, data science, artificial intelligence, and more."
      },
      {
         "cell_type":"markdown",
         "source":"## 2. History of Python Versions\n\n### Python 1.0 (1994)\n\n- The first official version.\n- Included features like lambda, map, filter, and reduce.\n\n### Python 2.0 (2000)\n\n- Introduced list comprehensions for more concise lists.\n- Added garbage collection for cyclical references.\n\n### Python 2.7 (2010)\n\n- The last of the 2.x series.\n- Included many features that were backported from Python 3.x.\n\n### Python 3.0 (2008)\n\n- A major revamp of the language, making it not backward-compatible with Python 2.x.\n- Print became a function, integer division resulted in a float, etc.\n\n### Python 3.6 (2016)\n\n- Introduced f-strings, a way to embed expressions inside string literals.\n\n### Python 3.7 (2018)\n\n- Introduced data classes that simplify the classes used for storing data.\n\n### Python 3.8 (2019)\n\n- Introduced the Walrus Operator (`:=`), which allows both assignment and evaluation of variables within an expression."
      },
      {
         "cell_type":"code",
         "source":"x = 10  # Integer\ny = 20.5  # Float\nname = 'Alice'  # String\nis_valid = True  # Boolean",
         "outputs":[
            
         ],
         "execution_count":null
      },
      {
         "cell_type":"code",
         "source":"# Traditional If Statement\nif x > y:\n    print('x is greater than y')\n\n# Using Walrus Operator (Python 3.8+)\nif (n := x * 2) > y:\n    print(f'n ({n}) is greater than y ({y})')",
         "outputs":[
            
         ],
         "execution_count":null
      },
      {
         "cell_type":"code",
         "source":"for i in range(5):\n    print(i)",
         "outputs":[
            
         ],
         "execution_count":null
      },
      {
         "cell_type":"code",
         "source":"i = 0\nwhile i < 3:\n    print(i)\n    i += 1",
         "outputs":[
            
         ],
         "execution_count":null
      },
      {
         "cell_type":"code",
         "source":"try:\n    print(10 / 0)\nexcept ZeroDivisionError:\n    print('Cannot divide by zero')",
         "outputs":[
            
         ],
         "execution_count":null
      },
      {
         "cell_type":"code",
         "source":"def greet(name):\n    return f'Hello, {name}'",
         "outputs":[
            
         ],
         "execution_count":null
      },
      {
         "cell_type":"code",
         "source":"class Animal:\n    def speak(self):\n        pass\n\nclass Dog(Animal):\n    def speak(self):\n        return 'Woof'",
         "outputs":[
            
         ],
         "execution_count":null
      },
      {
         "cell_type":"code",
         "source":"from typing import List\n\ndef add_numbers(numbers: List[int]) -> int:\n    return sum(numbers)",
         "outputs":[
            
         ],
         "execution_count":null
      },
      {
         "cell_type":"code",
         "source":"import math\nimport datetime",
         "outputs":[
            
         ],
         "execution_count":null
      },
      {
         "cell_type":"code",
         "source":"import numpy as np\nimport pandas as pd\nimport matplotlib.pyplot as plt",
         "outputs":[
            
         ],
         "execution_count":null
      },
      {
         "cell_type":"code",
         "source":"import httpx\n\nasync def fetch_data():\n    async with httpx.AsyncClient() as client:\n        response = await client.get('https://jsonplaceholder.typicode.com/todos/1')\n    return response.json()",
         "outputs":[
            
         ],
         "execution_count":null
      },
      {
         "cell_type":"code",
         "source":"import math\nfrom datetime import datetime",
         "outputs":[
            
         ],
         "execution_count":null
      }
   ],
   "metadata":{
      "kernelspec":{
         "display_name":"Python 3",
         "language":"python",
         "name":"python3"
      },
      "language_info":{
         "name":"python",
         "version":"3.8.0"
      }
   },
   "nbformat":4,
   "nbformat_minor":5
}
